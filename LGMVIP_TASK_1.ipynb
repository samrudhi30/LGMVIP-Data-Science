{
 "cells": [
  {
   "cell_type": "markdown",
   "metadata": {},
   "source": [
    "# LGMVIP Task 1 Beginner Level\n",
    "\n",
    "# Image to Pencil Sketch\n",
    "\n",
    "# Name: Samrudhi Nawale \n"
   ]
  },
  {
   "cell_type": "code",
   "execution_count": null,
   "metadata": {},
   "outputs": [],
   "source": [
    "#importing libraries\n",
    "\n",
    "from PIL import Image\n",
    "from IPython.display import display\n",
    "import cv2"
   ]
  },
  {
   "cell_type": "code",
   "execution_count": null,
   "metadata": {},
   "outputs": [],
   "source": [
    "#loading the image\n",
    "\n",
    "img = cv2.imread('nature.jpg', 1)\n",
    "img = cv2.resize(img, (640, 400))\n",
    "img = cv2.cvtColor(img, cv2.COLOR_BGR2RGB)\n",
    "display(Image.fromarray(img))\n"
   ]
  },
  {
   "cell_type": "code",
   "execution_count": null,
   "metadata": {},
   "outputs": [],
   "source": [
    "#converting image to greyscale\n",
    "\n",
    "img_grey = cv2.cvtColor(img, cv2.COLOR_BGR2GRAY)\n",
    "display(Image.fromarray(img_grey))"
   ]
  },
  {
   "cell_type": "code",
   "execution_count": null,
   "metadata": {},
   "outputs": [],
   "source": [
    "#inverting the greyscale image\n",
    "\n",
    "img_inv = cv2.bitwise_not(img_grey)\n",
    "display(Image.fromarray(img_inv))"
   ]
  },
  {
   "cell_type": "code",
   "execution_count": null,
   "metadata": {},
   "outputs": [],
   "source": [
    "#smoothen the image\n",
    "\n",
    "img_smooth = cv2.GaussianBlur(img_inv, (5, 5), 0, 0)\n",
    "display(Image.fromarray(img_smooth))"
   ]
  },
  {
   "cell_type": "code",
   "execution_count": null,
   "metadata": {},
   "outputs": [],
   "source": [
    "#inverting the image to get final sketch\n",
    "\n",
    "def dodge(img_grey, img_smooth):\n",
    "  img_smooth_inv = 255 - img_smooth\n",
    "  return cv2.divide(img_grey, img_smooth_inv, scale=256.0)"
   ]
  },
  {
   "cell_type": "code",
   "execution_count": null,
   "metadata": {},
   "outputs": [],
   "source": [
    "img_final = dodge(img_grey, img_smooth)\n",
    "display(Image.fromarray(img_final))"
   ]
  },
  {
   "cell_type": "code",
   "execution_count": null,
   "metadata": {},
   "outputs": [],
   "source": [
    "#comapre the original image with pencil sketch\n",
    "\n",
    "display(Image.fromarray(img))\n",
    "display(Image.fromarray(img_final))"
   ]
  },
  {
   "cell_type": "code",
   "execution_count": null,
   "metadata": {},
   "outputs": [],
   "source": []
  },
  {
   "cell_type": "code",
   "execution_count": null,
   "metadata": {},
   "outputs": [],
   "source": []
  }
 ],
 "metadata": {
  "kernelspec": {
   "display_name": "Python 3",
   "language": "python",
   "name": "python3"
  },
  "language_info": {
   "codemirror_mode": {
    "name": "ipython",
    "version": 3
   },
   "file_extension": ".py",
   "mimetype": "text/x-python",
   "name": "python",
   "nbconvert_exporter": "python",
   "pygments_lexer": "ipython3",
   "version": "3.8.5"
  }
 },
 "nbformat": 4,
 "nbformat_minor": 4
}
