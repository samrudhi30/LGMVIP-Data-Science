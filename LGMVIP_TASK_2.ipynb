{
 "cells": [
  {
   "cell_type": "markdown",
   "metadata": {},
   "source": [
    "\n",
    "# LGMVIP Task 2 - Intermediate Level\n",
    "\n",
    "# Exploratory Data Analysis - Terrorism\n",
    "\n",
    "# Name: Samrudhi Nawale\n",
    "\n"
   ]
  },
  {
   "cell_type": "code",
   "execution_count": null,
   "metadata": {},
   "outputs": [],
   "source": [
    "import numpy as np\n",
    "import pandas as pd\n",
    "import seaborn as sns\n",
    "import matplotlib.pyplot as plt\n",
    "import warnings\n",
    "warnings.filterwarnings('ignore')"
   ]
  },
  {
   "cell_type": "code",
   "execution_count": null,
   "metadata": {},
   "outputs": [],
   "source": [
    "df = pd.read_csv(r'C:\\Samrudhi\\LetsGrowMore\\globalterrorismdb_0718dist.csv', encoding='latin1')\n"
   ]
  },
  {
   "cell_type": "code",
   "execution_count": null,
   "metadata": {},
   "outputs": [],
   "source": [
    "df.head()\n"
   ]
  },
  {
   "cell_type": "code",
   "execution_count": null,
   "metadata": {},
   "outputs": [],
   "source": [
    "df.tail()\n"
   ]
  },
  {
   "cell_type": "code",
   "execution_count": null,
   "metadata": {},
   "outputs": [],
   "source": [
    "df.shape"
   ]
  },
  {
   "cell_type": "code",
   "execution_count": null,
   "metadata": {},
   "outputs": [],
   "source": [
    "df.info()"
   ]
  },
  {
   "cell_type": "code",
   "execution_count": null,
   "metadata": {},
   "outputs": [],
   "source": [
    "df.describe()\n"
   ]
  },
  {
   "cell_type": "code",
   "execution_count": null,
   "metadata": {},
   "outputs": [],
   "source": [
    "df.corr()"
   ]
  },
  {
   "cell_type": "code",
   "execution_count": null,
   "metadata": {},
   "outputs": [],
   "source": [
    "df.value_counts"
   ]
  },
  {
   "cell_type": "code",
   "execution_count": null,
   "metadata": {},
   "outputs": [],
   "source": [
    "df.columns"
   ]
  },
  {
   "cell_type": "code",
   "execution_count": null,
   "metadata": {},
   "outputs": [],
   "source": [
    "df.dtypes"
   ]
  },
  {
   "cell_type": "code",
   "execution_count": null,
   "metadata": {},
   "outputs": [],
   "source": [
    "df.nunique()"
   ]
  },
  {
   "cell_type": "code",
   "execution_count": null,
   "metadata": {},
   "outputs": [],
   "source": [
    "df.isnull().sum()"
   ]
  },
  {
   "cell_type": "code",
   "execution_count": null,
   "metadata": {},
   "outputs": [],
   "source": [
    "df.duplicated().sum()"
   ]
  },
  {
   "cell_type": "code",
   "execution_count": null,
   "metadata": {},
   "outputs": [],
   "source": [
    "#Renaming and selecting the relevant columns\n",
    "\n",
    "\n",
    "df.rename(columns={'iyear':'Year','imonth':'Month','iday':'Day','country_txt':'Country','provstate':'State','region_txt':'Region','city': 'City', 'latitude':'Latitude', 'longitude':'Longitude', 'attacktype1_txt':'Attack_Type','target1':'Target','nkill':'Killed','nwound':'Wounded','summary':'Summary','gname':'Group','targtype1_txt':'Target_Type','weaptype1_txt':'Weapon_Type','motive':'Motive'}, inplace=True)\n"
   ]
  },
  {
   "cell_type": "code",
   "execution_count": null,
   "metadata": {},
   "outputs": [],
   "source": [
    "df=df[['Year','Month','Day','Region','Country','State','City','Latitude','Longitude','Attack_Type','Killed','Wounded','Target','Summary','Group','Target_Type','Weapon_Type','Motive']]\n"
   ]
  },
  {
   "cell_type": "code",
   "execution_count": null,
   "metadata": {},
   "outputs": [],
   "source": [
    "# Dealing with missing values\n",
    "\n",
    "\n",
    "df['Wounded'] = df['Wounded'].fillna(0).astype(int)\n",
    "df['Killed'] = df['Killed'].fillna(0).astype(int)"
   ]
  },
  {
   "cell_type": "code",
   "execution_count": null,
   "metadata": {},
   "outputs": [],
   "source": [
    "df.head()"
   ]
  },
  {
   "cell_type": "markdown",
   "metadata": {},
   "source": [
    "# Exploratory Data Analysis (EDA)\n"
   ]
  },
  {
   "cell_type": "code",
   "execution_count": null,
   "metadata": {},
   "outputs": [],
   "source": [
    "plt.figure(figsize=(20, 10))\n",
    "sns.countplot('Year', data=df, edgecolor='black')\n",
    "plt.xticks(rotation=90)\n",
    "plt.title('No. of Terrorist Activities by Year',fontsize=20)\n",
    "plt.xlabel('Year', fontsize=16)\n",
    "plt.ylabel('Count', fontsize=16)\n",
    "plt.show()"
   ]
  },
  {
   "cell_type": "markdown",
   "metadata": {},
   "source": [
    "It is observed that terrorist activities have increased in the 2010s (as compared to earlier decades) and hit their peak in 2014.\n",
    "\n"
   ]
  },
  {
   "cell_type": "code",
   "execution_count": null,
   "metadata": {},
   "outputs": [],
   "source": [
    "plt.figure(figsize=(20, 10))\n",
    "sns.countplot('Month', data=df, edgecolor='black')\n",
    "plt.title('No. of Terrorist Activities by Month',fontsize=20)\n",
    "plt.xlabel('Month', fontsize=16)\n",
    "plt.ylabel('Count', fontsize=16)\n",
    "plt.show()\n",
    "\n"
   ]
  },
  {
   "cell_type": "markdown",
   "metadata": {},
   "source": [
    "The distribution for terrorist activities is pretty even across all months, although the month of May reports the highest no. of terrorist activities.\n",
    "\n"
   ]
  },
  {
   "cell_type": "code",
   "execution_count": null,
   "metadata": {},
   "outputs": [],
   "source": [
    "plt.figure(figsize=(20, 10))\n",
    "sns.countplot('Day', data=df, edgecolor='black')\n",
    "plt.title('No. of Terrorist Activities by Day', fontsize=20)\n",
    "plt.xlabel('Day', fontsize=16)\n",
    "plt.ylabel('Count', fontsize=16)\n",
    "plt.show()"
   ]
  },
  {
   "cell_type": "markdown",
   "metadata": {},
   "source": [
    "The distribution is very even across all days except for 31st, which is probably due to the fact that not every month has 31 days. It is observed that the most terrorist activities are reported on the 15th of a month."
   ]
  },
  {
   "cell_type": "code",
   "execution_count": null,
   "metadata": {},
   "outputs": [],
   "source": [
    "plt.figure(figsize=(20,10))\n",
    "sns.barplot(df['Region'].value_counts()[:10].index,df['Region'].value_counts()[:10].values)\n",
    "plt.title('No. of Terrorist Activities by Region', fontsize=20)\n",
    "plt.xlabel('Regions', fontsize=16)\n",
    "plt.ylabel('Count', fontsize=16)\n",
    "plt.show()"
   ]
  },
  {
   "cell_type": "markdown",
   "metadata": {},
   "source": [
    "It is observed that terrorist activities are more frequent in Middle Eastern and North African regions, followed by South Asia ranging above the 40000 mark. These regions can be identified as the hotzones for terrorism."
   ]
  },
  {
   "cell_type": "code",
   "execution_count": null,
   "metadata": {},
   "outputs": [],
   "source": [
    "plt.figure(figsize=(20,10))\n",
    "sns.barplot(df['Country'].value_counts()[:10].index,df['Country'].value_counts()[:10].values)\n",
    "plt.title('No. of Terrorist Activities by Country', fontsize=20)\n",
    "plt.xlabel('Countries',fontsize=16)\n",
    "plt.ylabel('Count',fontsize=16)\n",
    "plt.show()"
   ]
  },
  {
   "cell_type": "markdown",
   "metadata": {},
   "source": [
    "It is observed that Iraq is the most prone to terrorist activities followed by Pakistan, Afghanistan and India, eaching having suffered from over 10000 attacks in the past few decades.\n",
    "\n"
   ]
  },
  {
   "cell_type": "code",
   "execution_count": null,
   "metadata": {},
   "outputs": [],
   "source": [
    "plt.figure(figsize=(20,10))\n",
    "sns.barplot(df['State'].value_counts()[:10].index,df['State'].value_counts()[:10].values)\n",
    "plt.title('No. of Terrorist Activities by State', fontsize=20)\n",
    "plt.xlabel('States',fontsize=16)\n",
    "plt.ylabel('Count',fontsize=16)\n",
    "plt.show()"
   ]
  },
  {
   "cell_type": "markdown",
   "metadata": {},
   "source": [
    "It is observed that Baghdad reports the highest number of terrorist activities (over 7500) among other major states and provinces of the world, distantly followed by Northern Ireland.\n",
    "\n"
   ]
  },
  {
   "cell_type": "code",
   "execution_count": null,
   "metadata": {},
   "outputs": [],
   "source": [
    "plt.figure(figsize=(20,10))\n",
    "sns.barplot(df['City'].value_counts()[1:11].index,df['City'].value_counts()[1:11].values)\n",
    "plt.title('No. of Terrorist Activities by City', fontsize=20)\n",
    "plt.xlabel('Cities',fontsize=16)\n",
    "plt.ylabel('Count',fontsize=16)\n",
    "plt.show()"
   ]
  },
  {
   "cell_type": "markdown",
   "metadata": {},
   "source": [
    "It is observed that the city of Baghdad reports the highest number of terrorist activities (around 7500) among other major cities of the world, distantly followed by Karachi in Pakistan."
   ]
  },
  {
   "cell_type": "code",
   "execution_count": null,
   "metadata": {},
   "outputs": [],
   "source": [
    "plt.figure(figsize=(20, 10))\n",
    "sns.countplot('Attack_Type', data=df, order=df['Attack_Type'].value_counts().index)\n",
    "plt.xticks(rotation=15)\n",
    "plt.title('Terrorist Activities by Attack Type', fontsize=20)\n",
    "plt.xlabel('Attack Type', fontsize=16)\n",
    "plt.ylabel('Count', fontsize=16)\n",
    "plt.show()    "
   ]
  },
  {
   "cell_type": "markdown",
   "metadata": {},
   "source": [
    "It is observed that among the primary types of terrorist attacks, Bombings/Explosions are the most common, followed by Armed Assaults and Assassinations, albeit not very closely."
   ]
  },
  {
   "cell_type": "code",
   "execution_count": null,
   "metadata": {},
   "outputs": [],
   "source": [
    "plt.figure(figsize=(20, 10))\n",
    "sns.countplot('Target_Type', data=df, order=df['Target_Type'].value_counts()[:10].index)\n",
    "plt.xticks(rotation=15)\n",
    "plt.title('Terrorist Activities by Target Type', fontsize=20)\n",
    "plt.xlabel('Target Type', fontsize=16)\n",
    "plt.ylabel('Count', fontsize=16)\n",
    "plt.show()"
   ]
  },
  {
   "cell_type": "markdown",
   "metadata": {},
   "source": [
    "It is observed that most frequently, the targets of terrorist attacks tend to be Private Citizens (or civilians) and Property, followed by the military and police forces, as well as government and business bodies"
   ]
  },
  {
   "cell_type": "code",
   "execution_count": null,
   "metadata": {},
   "outputs": [],
   "source": [
    "plt.figure(figsize=(20,10))\n",
    "sns.barplot(df['Group'].value_counts()[1:16].values, df['Group'].value_counts()[1:16].index, orient='h')\n",
    "plt.title('No. of Terrorist Activities by Terrorist Group', fontsize=20)\n",
    "plt.xlabel('Groups', fontsize=16)\n",
    "plt.ylabel('Count', fontsize=16)\n",
    "plt.show()"
   ]
  },
  {
   "cell_type": "markdown",
   "metadata": {},
   "source": [
    "It is observed that acts of terrorism have most frequently been orchestrated by the Taliban (ranging over 7000) followed by the ISIL, the SL, the FMLN, and Al-Shabaab.\n",
    "\n"
   ]
  },
  {
   "cell_type": "code",
   "execution_count": null,
   "metadata": {},
   "outputs": [],
   "source": [
    "#Recording Casualties\n",
    "\n",
    "\n",
    "data = df[['Group','Country','Killed', 'Wounded']]\n",
    "data = data.groupby(['Group','Country'], axis=0).sum().sort_values(['Killed', 'Wounded'], ascending=False).drop('Unknown').reset_index().head(10)\n",
    "data"
   ]
  },
  {
   "cell_type": "markdown",
   "metadata": {},
   "source": [
    "The ISIL has been most actively terrorising Iraq with over 31000 people killed and 23000 wounded. The Taliban has been committing its equal share of terrorism in Afghanistan with over 29000 killed and 27000 wounded."
   ]
  },
  {
   "cell_type": "code",
   "execution_count": null,
   "metadata": {},
   "outputs": [],
   "source": [
    "casualties_by_year = df.pivot_table(columns='Year', values=('Killed','Wounded'), aggfunc='sum')\n",
    "casualties_by_year"
   ]
  },
  {
   "cell_type": "markdown",
   "metadata": {},
   "source": [
    "Most deaths due to terrorism occurred in 2014, numbering at around 44000.\n",
    "\n"
   ]
  },
  {
   "cell_type": "code",
   "execution_count": null,
   "metadata": {},
   "outputs": [],
   "source": [
    "casualties_by_month = df.pivot_table(columns='Month', values=('Killed','Wounded'), aggfunc='sum')\n",
    "casualties_by_month.drop(0, axis=1)"
   ]
  },
  {
   "cell_type": "markdown",
   "metadata": {},
   "source": [
    "Most deaths due to terrorism have occured in the month of July, numbering at around 38000.\n",
    "\n"
   ]
  },
  {
   "cell_type": "code",
   "execution_count": null,
   "metadata": {},
   "outputs": [],
   "source": [
    "casualties_by_day = df.pivot_table(columns='Day', values=('Killed','Wounded'), aggfunc='sum')\n",
    "casualties_by_day.drop(0, axis=1)"
   ]
  },
  {
   "cell_type": "markdown",
   "metadata": {},
   "source": [
    "Most deaths due to terrorism have occured on the 11th of a month, numbering at around 17000.\n",
    "\n"
   ]
  },
  {
   "cell_type": "code",
   "execution_count": null,
   "metadata": {},
   "outputs": [],
   "source": [
    "casualties_by_region = df.pivot_table(columns='Region', values=('Killed','Wounded'), aggfunc='sum')\n",
    "casualties_by_region"
   ]
  },
  {
   "cell_type": "markdown",
   "metadata": {},
   "source": [
    "Most deaths due to terrorism have occured in the Middle East and North Africa numbering at around 137000.\n",
    "\n"
   ]
  },
  {
   "cell_type": "code",
   "execution_count": null,
   "metadata": {},
   "outputs": [],
   "source": [
    "casualties_by_country = df.pivot_table(columns='Country', values=('Killed','Wounded'), aggfunc='sum')\n",
    "casualties_by_country"
   ]
  },
  {
   "cell_type": "markdown",
   "metadata": {},
   "source": [
    "Most deaths due to terrorism have occured in Iraq, numbering at around 78000.\n",
    "\n"
   ]
  },
  {
   "cell_type": "code",
   "execution_count": null,
   "metadata": {},
   "outputs": [],
   "source": [
    "casualties_by_state = df.pivot_table(columns='State', values=('Killed','Wounded'), aggfunc='sum')\n",
    "casualties_by_state"
   ]
  },
  {
   "cell_type": "markdown",
   "metadata": {},
   "source": [
    "Most deaths due to terrorism have occured in the province of Baghdad numbering at around 21000.\n",
    "\n"
   ]
  },
  {
   "cell_type": "code",
   "execution_count": null,
   "metadata": {},
   "outputs": [],
   "source": [
    "casualties_by_city = df.pivot_table(columns='City', values=('Killed','Wounded'), aggfunc='sum')\n",
    "casualties_by_city"
   ]
  },
  {
   "cell_type": "markdown",
   "metadata": {},
   "source": [
    "Most deaths due to terrorism have occured in the city of Baghdad numbering at around 21000.\n",
    "\n"
   ]
  },
  {
   "cell_type": "code",
   "execution_count": null,
   "metadata": {},
   "outputs": [],
   "source": [
    "casualties_by_attack_type = df.pivot_table(columns='Attack_Type', values=('Killed','Wounded'), aggfunc='sum')\n",
    "casualties_by_attack_type"
   ]
  },
  {
   "cell_type": "markdown",
   "metadata": {},
   "source": [
    "Most deaths due to terrorism have occured from armed assaults numbering at around 160000.\n",
    "\n"
   ]
  },
  {
   "cell_type": "code",
   "execution_count": null,
   "metadata": {},
   "outputs": [],
   "source": [
    "casualties_by_target_type = df.pivot_table(columns='Target_Type', values=('Killed','Wounded'), aggfunc='sum')\n",
    "casualties_by_target_type"
   ]
  },
  {
   "cell_type": "markdown",
   "metadata": {},
   "source": [
    "Most deaths due to terrorism have occured among civilians and private citizens numbering at around 140000.\n",
    "\n"
   ]
  },
  {
   "cell_type": "code",
   "execution_count": null,
   "metadata": {},
   "outputs": [],
   "source": [
    "casualties_by_group = df.pivot_table(columns='Group', values=('Killed','Wounded'), aggfunc='sum')\n",
    "casualties_by_group"
   ]
  },
  {
   "cell_type": "markdown",
   "metadata": {},
   "source": [
    "Most deaths due to terrorism have been caused by the terrorist activities committed by Islamic State of Iraq and the Levant (ISIL) numbering at around 39000.\n",
    "\n"
   ]
  },
  {
   "cell_type": "code",
   "execution_count": null,
   "metadata": {},
   "outputs": [],
   "source": []
  }
 ],
 "metadata": {
  "kernelspec": {
   "display_name": "Python 3",
   "language": "python",
   "name": "python3"
  },
  "language_info": {
   "codemirror_mode": {
    "name": "ipython",
    "version": 3
   },
   "file_extension": ".py",
   "mimetype": "text/x-python",
   "name": "python",
   "nbconvert_exporter": "python",
   "pygments_lexer": "ipython3",
   "version": "3.8.5"
  }
 },
 "nbformat": 4,
 "nbformat_minor": 4
}
